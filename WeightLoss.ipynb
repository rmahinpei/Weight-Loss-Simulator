{
 "cells": [
  {
   "cell_type": "markdown",
   "metadata": {},
   "source": [
    "# Deterministic Model for Weight Loss\n",
    "This is a Python implementation of the deterministic model of weight loss proposed by Diana M. Thomas et al.\n",
    "Thomas' paper containing specific details on the model can be found at https://www.ncbi.nlm.nih.gov/pmc/articles/PMC2764961/."
   ]
  },
  {
   "cell_type": "code",
   "execution_count": 17,
   "metadata": {},
   "outputs": [],
   "source": [
    "import numpy as np\n",
    "import math\n",
    "import matplotlib.pyplot as plt"
   ]
  },
  {
   "cell_type": "code",
   "execution_count": 18,
   "metadata": {},
   "outputs": [
    {
     "name": "stdout",
     "output_type": "stream",
     "text": [
      "\n",
      "Original Energy Intake: 2677.8 kcal\n",
      "Reduced Energy Intake: 2008.3 kcal\n",
      "Energy Reduction: 669.4 kcal\n",
      "Percentage Reduction: 25.0%\n",
      "\n",
      "Original Weight: 60.0 kg\n",
      "Final Weight: 54.2 kg\n",
      "Weight Reduction: 5.8 kg\n",
      "Percentage Reduction: 9.7%\n",
      "\n"
     ]
    },
    {
     "data": {
      "image/png": "[encoded data removed]",
      "text/plain": [
       "<Figure size 432x288 with 1 Axes>"
      ]
     },
     "metadata": {
      "needs_background": "light"
     },
     "output_type": "display_data"
    }
   ],
   "source": [
    "# define universal constants used in model\n",
    "a = 293                  # male = 293     female = 248     for resting metabolic rate (RMR)    \n",
    "p = 0.4330               # male = 0.4330  female = 0.4356  for RMR    \n",
    "y = 5.92                 # male = 5.92    female = 5.09    for RMR    \n",
    "k = 0.02                 #                                 for RMR   \n",
    "beta = 0.075             #                                 for dietary induced thermogenesis (DIT)\n",
    "r = 0.67                 #                                 for non-exercise activity thermogenesis (NEAT)\n",
    "omega = 0.56             # male = 0.56    female = 0.32    for alpha \n",
    "alpha = 1+omega          #                                 for W\n",
    "cl = 1100                # caloric value of fat-free mass  for gamma                                               \n",
    "cf = 9500                # caloric value of fat mass       for gamma  \n",
    "f = 0.30                 # proportion of fat-free mass     for gamma\n",
    "gamma = cl*omega*f+cf    #                                 for dF/dt\n",
    "\n",
    "# define case dependent constants used in model\n",
    "I = 0.75*2677.8          # energy intake in kcal/day                  \n",
    "W0 = 60                  # initial weight in kg                       \n",
    "A0 = 20                  # initial age in years                       \n",
    "dt = 1                   # size of time step used in each Euler iteration in days\n",
    "\n",
    "# initialize starting conditions\n",
    "t = 0 \n",
    "W = W0        \n",
    "RMR0 = a*math.pow(W,p) - y*(A0+t/365)\n",
    "E0 = RMR0/0.6            # energy expenditure is 60% of RMR\n",
    "DIT0 = 0.075*E0          # DIT is 7.5% of E\n",
    "NEAT0 = 0.1*E0           # NEAT is 10% of E\n",
    "EAT0 = E0 - (RMR0+DIT0+NEAT0)\n",
    "m = EAT0/W               # proportionality constant for exercise-activity thermogenesis (EAT)\n",
    "C = NEAT0 - r/(1-r)*(RMR0+DIT0+EAT0) # constant for NEAT\n",
    "\n",
    "# initialize lists for weight and time\n",
    "Wsim = []\n",
    "tsim = []\n",
    "\n",
    "# append initial values to lists\n",
    "Wsim.append(W)  \n",
    "tsim.append(t)           \n",
    "\n",
    "# calculate new W after each time iteration \n",
    "while t < 500:\n",
    "    RMR = (1-k)*(a*math.pow(W,p)- y*(A0+t/365))\n",
    "    DIT = beta*I\n",
    "    EAT = m*W\n",
    "    NEAT = r/(1-r)*(RMR+DIT+EAT)+C\n",
    "    dF = (I - (RMR+DIT+EAT+NEAT))/gamma\n",
    "    W = W + dF*alpha*dt\n",
    "    t = t + dt\n",
    "    Wsim.append(W)         # store updated W\n",
    "    tsim.append(t)         # store updated time\n",
    "\n",
    "# display original intake, reduced intake, original weight, reduced weight \n",
    "print (\"Original Energy Intake: \" + \"{:.1f}\".format(round(E0, 2)) + \" kcal\")\n",
    "print (\"Reduced Energy Intake: \" + \"{:.1f}\".format(round(I, 2)) + \" kcal\")\n",
    "print (\"Energy Reduction: \" + \"{:.1f}\".format(round((E0-I), 2)) +\" kcal\")\n",
    "print (\"Percentage Reduction: \" + \"{:.1f}\".format(round((E0-I)/E0*100, 2)) +\"%\")\n",
    "\n",
    "print (\"Original Weight: \" + \"{:.1f}\".format(round(W0, 2)) + \" kg\")\n",
    "print (\"Final Weight: \" + \"{:.1f}\".format(round(W, 2)) + \" kg\")\n",
    "print (\"Weight Reduction: \" + \"{:.1f}\".format(round((W0-W), 2)) +\" kg\")\n",
    "print (\"Percentage Reduction: \" + \"{:.1f}\".format(round((W0-W)/W0*100, 2)) +\"%\")\n",
    "\n",
    "# plot weight of subject over time\n",
    "plt.figure \n",
    "plt.plot(tsim, Wsim, label= \"Weight\")\n",
    "plt.xlabel(\"t (days)\")\n",
    "plt.ylabel(\"W (kg)\")\n",
    "plt.legend()\n",
    "plt.show()    "
   ]
  }
 ],
 "metadata": {
  "kernelspec": {
   "display_name": "Python 3",
   "language": "python",
   "name": "python3"
  },
  "language_info": {
   "codemirror_mode": {
    "name": "ipython",
    "version": 3
   },
   "file_extension": ".py",
   "mimetype": "text/x-python",
   "name": "python",
   "nbconvert_exporter": "python",
   "pygments_lexer": "ipython3",
   "version": "3.8.3"
  }
 },
 "nbformat": 4,
 "nbformat_minor": 4
}
